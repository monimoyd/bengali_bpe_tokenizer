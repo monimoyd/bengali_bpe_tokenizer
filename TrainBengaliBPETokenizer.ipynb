{
  "cells": [
    {
      "cell_type": "code",
      "execution_count": null,
      "metadata": {
        "colab": {
          "base_uri": "https://localhost:8080/"
        },
        "id": "gvI5HSBv91KH",
        "outputId": "11e084df-f10d-4515-d446-26c1a9c5a494"
      },
      "outputs": [
        {
          "output_type": "stream",
          "name": "stdout",
          "text": [
            "Maximum num_merges :  4865\n",
            " After iteration: 1  number of pairs: 2742\n",
            " After iteration: 101  number of pairs: 9403\n",
            " After iteration: 201  number of pairs: 15687\n",
            " After iteration: 301  number of pairs: 22035\n",
            " After iteration: 401  number of pairs: 27136\n",
            " After iteration: 501  number of pairs: 31677\n",
            " After iteration: 601  number of pairs: 35729\n",
            " After iteration: 701  number of pairs: 39144\n",
            " After iteration: 801  number of pairs: 43314\n",
            " After iteration: 901  number of pairs: 47168\n",
            " After iteration: 1001  number of pairs: 50439\n",
            " After iteration: 1101  number of pairs: 53142\n",
            " After iteration: 1201  number of pairs: 56417\n"
          ]
        }
      ],
      "source": [
        "from bengali_bpe_tokenizer import BengaliBPETokenizer\n",
        "import time\n",
        "\n",
        "def load_bengali_texts(file_paths):\n",
        "    texts = []\n",
        "    for path in file_paths:\n",
        "        with open(path, 'r', encoding='utf-8') as f:\n",
        "            texts.append(f.read())\n",
        "    return texts\n",
        "\n",
        "# Training\n",
        "data_files = [\n",
        "    \"essay.txt\",\n",
        "]\n",
        "\n",
        "# Create and train tokenizer\n",
        "tokenizer = BengaliBPETokenizer(vocab_size=5000)\n",
        "texts = load_bengali_texts(data_files)\n",
        "\n",
        "# 3,000,000 tested already, 48 mins run time\n",
        "#texts[0] = texts[0][:5000000]\n",
        "\n",
        "\n",
        "# print(f\"Number of base_vocab: {len(tokenizer.base_vocab)}\")\n",
        "# print(f\"base_vocab: {tokenizer.base_vocab}\")\n",
        "\n",
        "\n",
        "start_time = time.time()\n",
        "tokenizer.train(texts, min_freq=2)\n",
        "end_time = time.time()\n",
        "print(f\"Time taken to train: {end_time - start_time} seconds\")\n",
        "\n",
        "\n",
        "# Save the tokenizer\n",
        "tokenizer.save(\"bengali_bpe_tokenizer.json\")"
      ]
    },
    {
      "cell_type": "code",
      "source": [
        "# Print some statistics\n",
        "print(f\"\\nVocabulary size: {len(tokenizer.vocab)}\")\n",
        "print(f\"Number of merges: {len(tokenizer.merges)}\")"
      ],
      "metadata": {
        "id": "paLAWM2DQHty"
      },
      "execution_count": null,
      "outputs": []
    },
    {
      "cell_type": "code",
      "execution_count": null,
      "metadata": {
        "id": "yZQUgGTaOFAh"
      },
      "outputs": [],
      "source": [
        "# Test the tokenizer\n",
        "test_text = \"হাতে তার লম্বা পাকাবাঁশের লাঠি\"\n",
        "encoded = tokenizer.encode(test_text)\n",
        "decoded = tokenizer.decode(encoded)\n",
        "\n",
        "# Calculate compression ratio\n",
        "compression_ratio = tokenizer.calculate_compression_ratio(test_text)\n",
        "\n",
        "print(f\"Original text: {test_text}\")\n",
        "print(f\"Encoded: {encoded}\")\n",
        "print(f\"Decoded: {decoded}\")\n",
        "print(f\"Compression ratio: {compression_ratio:.2f}\")\n",
        "\n",
        "\n",
        "\n",
        "\n"
      ]
    },
    {
      "cell_type": "code",
      "execution_count": null,
      "metadata": {
        "id": "LJQoWO6V9xH_"
      },
      "outputs": [],
      "source": [
        "from google.colab import drive\n",
        "drive.mount('/content/drive')"
      ]
    },
    {
      "cell_type": "code",
      "source": [
        "! cp bengali_bpe_tokenizer.json '/content/drive/MyDrive'"
      ],
      "metadata": {
        "id": "V56Mp6rHksdQ"
      },
      "execution_count": null,
      "outputs": []
    }
  ],
  "metadata": {
    "colab": {
      "provenance": [],
      "machine_shape": "hm"
    },
    "kernelspec": {
      "display_name": "Python 3",
      "name": "python3"
    },
    "language_info": {
      "name": "python"
    }
  },
  "nbformat": 4,
  "nbformat_minor": 0
}